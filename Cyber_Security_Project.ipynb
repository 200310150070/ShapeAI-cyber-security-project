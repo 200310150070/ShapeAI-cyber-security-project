{
  "nbformat": 4,
  "nbformat_minor": 0,
  "metadata": {
    "colab": {
      "name": "Cyber Security Project",
      "provenance": [],
      "collapsed_sections": []
    },
    "kernelspec": {
      "name": "python3",
      "display_name": "Python 3"
    },
    "language_info": {
      "name": "python"
    }
  },
  "cells": [
    {
      "cell_type": "markdown",
      "metadata": {
        "id": "pcbb-ePkAsGx"
      },
      "source": [
        "# weather info :"
      ]
    },
    {
      "cell_type": "code",
      "metadata": {
        "id": "cgVNJYoo0fsj"
      },
      "source": [
        "import requests\n",
        "from datetime import datetime "
      ],
      "execution_count": 29,
      "outputs": []
    },
    {
      "cell_type": "code",
      "metadata": {
        "colab": {
          "base_uri": "https://localhost:8080/"
        },
        "id": "e_jP54Z_1Yev",
        "outputId": "abe702b0-30d5-417c-f2ba-436fb7bc32aa"
      },
      "source": [
        "api_key = 'dd7fc6681ac213b84e90204ac219c67e'\n",
        "location = input(\"Enter the city name: \")"
      ],
      "execution_count": 30,
      "outputs": [
        {
          "output_type": "stream",
          "text": [
            "Enter the city name: patan\n"
          ],
          "name": "stdout"
        }
      ]
    },
    {
      "cell_type": "code",
      "metadata": {
        "id": "-ikcU6cy2h0k"
      },
      "source": [
        "complete_api_link = \"https://api.openweathermap.org/data/2.5/weather?q=\"+location+\"&appid=\"+api_key\n",
        "api_link = requests.get(complete_api_link)\n",
        "api_data = api_link.json()"
      ],
      "execution_count": 31,
      "outputs": []
    },
    {
      "cell_type": "markdown",
      "metadata": {
        "id": "K3GonnaQ8x23"
      },
      "source": [
        "create variables to store and display data"
      ]
    },
    {
      "cell_type": "code",
      "metadata": {
        "id": "zA_ykgi_5c02"
      },
      "source": [
        "temp_city = ((api_data['main']['temp_min']) - 273.15)\n",
        "weather_desc = api_data['weather'][0]['description']\n",
        "hmdt = api_data['main']['humidity']\n",
        "wind_spd = api_data['wind']['speed']\n",
        "date_time = datetime.now().strftime(\"%d %b %Y | %I:%M:%S %p\")"
      ],
      "execution_count": 32,
      "outputs": []
    },
    {
      "cell_type": "code",
      "metadata": {
        "colab": {
          "base_uri": "https://localhost:8080/"
        },
        "id": "xjR_c5GL5fzt",
        "outputId": "aabed3c8-3e0e-4074-e10e-4ac4b074b395"
      },
      "source": [
        "print (\"-------------------------------------------------------------\\n\")\n",
        "print (\"Weather Stats for - {}  || {}\\n\".format(location.upper(), date_time))\n",
        "print (\"-------------------------------------------------------------\\n\")\n"
      ],
      "execution_count": 34,
      "outputs": [
        {
          "output_type": "stream",
          "text": [
            "-------------------------------------------------------------\n",
            "\n",
            "Weather Stats for - PATAN  || 23 Jun 2021 | 02:01:17 PM\n",
            "\n",
            "-------------------------------------------------------------\n",
            "\n"
          ],
          "name": "stdout"
        }
      ]
    },
    {
      "cell_type": "code",
      "metadata": {
        "colab": {
          "base_uri": "https://localhost:8080/"
        },
        "id": "vVRQw_9N5i4n",
        "outputId": "45e94e8d-7ab7-424b-a016-592c8d991407"
      },
      "source": [
        "print (\"Current temperature is: {:.2f} degree C\".format(temp_city))\n",
        "print (\"Current weather desc  :\",weather_desc)\n",
        "print (\"Current Humidity      :\",hmdt, '%')\n",
        "print (\"Current wind speed    :\",wind_spd ,'kmph')"
      ],
      "execution_count": 35,
      "outputs": [
        {
          "output_type": "stream",
          "text": [
            "Current temperature is: 22.21 degree C\n",
            "Current weather desc  : light rain\n",
            "Current Humidity      : 100 %\n",
            "Current wind speed    : 1.03 kmph\n"
          ],
          "name": "stdout"
        }
      ]
    }
  ]
}